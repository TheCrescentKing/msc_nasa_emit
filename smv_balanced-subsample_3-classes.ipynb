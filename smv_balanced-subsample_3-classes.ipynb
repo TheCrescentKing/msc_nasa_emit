{
 "cells": [
  {
   "cell_type": "code",
   "execution_count": 125,
   "metadata": {},
   "outputs": [],
   "source": [
    "import numpy as np\n",
    "import xarray as xr\n",
    "import pandas as pd\n",
    "import matplotlib.pyplot as plt"
   ]
  },
  {
   "cell_type": "code",
   "execution_count": 126,
   "metadata": {},
   "outputs": [],
   "source": [
    "mineralFilePath = 'EMIT_L2B_MIN_001_20220811T001233_2222216_001.nc'\n",
    "reflectanceFilePath = 'EMIT_L2A_RFL_001_20220811T001233_2222216_001.nc'"
   ]
  },
  {
   "cell_type": "code",
   "execution_count": 127,
   "metadata": {},
   "outputs": [],
   "source": [
    "refl = xr.open_dataset(reflectanceFilePath)\n",
    "minerals = xr.open_dataset(mineralFilePath)"
   ]
  },
  {
   "cell_type": "code",
   "execution_count": 128,
   "metadata": {},
   "outputs": [],
   "source": [
    "hsiData = refl['reflectance'].values\n",
    "hsiData.shape\n",
    "del refl"
   ]
  },
  {
   "cell_type": "code",
   "execution_count": 129,
   "metadata": {},
   "outputs": [],
   "source": [
    "groundTruth = minerals.group_1_mineral_id.values\n",
    "groundTruth.shape\n",
    "del minerals"
   ]
  },
  {
   "cell_type": "code",
   "execution_count": 130,
   "metadata": {},
   "outputs": [],
   "source": [
    "X = hsiData.reshape(-1, hsiData.shape[2])\n",
    "y = groundTruth.ravel()"
   ]
  },
  {
   "cell_type": "code",
   "execution_count": 131,
   "metadata": {},
   "outputs": [
    {
     "data": {
      "text/html": [
       "<div>\n",
       "<style scoped>\n",
       "    .dataframe tbody tr th:only-of-type {\n",
       "        vertical-align: middle;\n",
       "    }\n",
       "\n",
       "    .dataframe tbody tr th {\n",
       "        vertical-align: top;\n",
       "    }\n",
       "\n",
       "    .dataframe thead th {\n",
       "        text-align: right;\n",
       "    }\n",
       "</style>\n",
       "<table border=\"1\" class=\"dataframe\">\n",
       "  <thead>\n",
       "    <tr style=\"text-align: right;\">\n",
       "      <th></th>\n",
       "      <th>0</th>\n",
       "      <th>1</th>\n",
       "      <th>2</th>\n",
       "      <th>3</th>\n",
       "      <th>4</th>\n",
       "      <th>5</th>\n",
       "      <th>6</th>\n",
       "      <th>7</th>\n",
       "      <th>8</th>\n",
       "      <th>9</th>\n",
       "      <th>...</th>\n",
       "      <th>276</th>\n",
       "      <th>277</th>\n",
       "      <th>278</th>\n",
       "      <th>279</th>\n",
       "      <th>280</th>\n",
       "      <th>281</th>\n",
       "      <th>282</th>\n",
       "      <th>283</th>\n",
       "      <th>284</th>\n",
       "      <th>gt</th>\n",
       "    </tr>\n",
       "  </thead>\n",
       "  <tbody>\n",
       "    <tr>\n",
       "      <th>0</th>\n",
       "      <td>0.010281</td>\n",
       "      <td>0.010403</td>\n",
       "      <td>0.010525</td>\n",
       "      <td>0.010649</td>\n",
       "      <td>0.010932</td>\n",
       "      <td>0.011388</td>\n",
       "      <td>0.011972</td>\n",
       "      <td>0.012628</td>\n",
       "      <td>0.013215</td>\n",
       "      <td>0.013814</td>\n",
       "      <td>...</td>\n",
       "      <td>0.021460</td>\n",
       "      <td>0.021286</td>\n",
       "      <td>0.021945</td>\n",
       "      <td>0.021045</td>\n",
       "      <td>0.020107</td>\n",
       "      <td>0.018974</td>\n",
       "      <td>0.019383</td>\n",
       "      <td>0.018503</td>\n",
       "      <td>0.017791</td>\n",
       "      <td>0.0</td>\n",
       "    </tr>\n",
       "    <tr>\n",
       "      <th>1</th>\n",
       "      <td>0.011180</td>\n",
       "      <td>0.011382</td>\n",
       "      <td>0.011583</td>\n",
       "      <td>0.011786</td>\n",
       "      <td>0.012148</td>\n",
       "      <td>0.012683</td>\n",
       "      <td>0.013340</td>\n",
       "      <td>0.014069</td>\n",
       "      <td>0.014724</td>\n",
       "      <td>0.015389</td>\n",
       "      <td>...</td>\n",
       "      <td>0.026586</td>\n",
       "      <td>0.025946</td>\n",
       "      <td>0.026113</td>\n",
       "      <td>0.025691</td>\n",
       "      <td>0.024153</td>\n",
       "      <td>0.024572</td>\n",
       "      <td>0.023118</td>\n",
       "      <td>0.022323</td>\n",
       "      <td>0.021669</td>\n",
       "      <td>0.0</td>\n",
       "    </tr>\n",
       "    <tr>\n",
       "      <th>2</th>\n",
       "      <td>0.012435</td>\n",
       "      <td>0.012749</td>\n",
       "      <td>0.013063</td>\n",
       "      <td>0.013379</td>\n",
       "      <td>0.013852</td>\n",
       "      <td>0.014502</td>\n",
       "      <td>0.015266</td>\n",
       "      <td>0.016096</td>\n",
       "      <td>0.016839</td>\n",
       "      <td>0.017584</td>\n",
       "      <td>...</td>\n",
       "      <td>0.032494</td>\n",
       "      <td>0.029946</td>\n",
       "      <td>0.029996</td>\n",
       "      <td>0.027479</td>\n",
       "      <td>0.028405</td>\n",
       "      <td>0.026994</td>\n",
       "      <td>0.026503</td>\n",
       "      <td>0.025581</td>\n",
       "      <td>0.024835</td>\n",
       "      <td>0.0</td>\n",
       "    </tr>\n",
       "    <tr>\n",
       "      <th>3</th>\n",
       "      <td>0.017038</td>\n",
       "      <td>0.017625</td>\n",
       "      <td>0.018211</td>\n",
       "      <td>0.018801</td>\n",
       "      <td>0.019578</td>\n",
       "      <td>0.020565</td>\n",
       "      <td>0.021674</td>\n",
       "      <td>0.022856</td>\n",
       "      <td>0.023913</td>\n",
       "      <td>0.024962</td>\n",
       "      <td>...</td>\n",
       "      <td>0.051407</td>\n",
       "      <td>0.048852</td>\n",
       "      <td>0.048247</td>\n",
       "      <td>0.044599</td>\n",
       "      <td>0.044867</td>\n",
       "      <td>0.044043</td>\n",
       "      <td>0.041095</td>\n",
       "      <td>0.039858</td>\n",
       "      <td>0.039054</td>\n",
       "      <td>0.0</td>\n",
       "    </tr>\n",
       "    <tr>\n",
       "      <th>4</th>\n",
       "      <td>0.017849</td>\n",
       "      <td>0.018292</td>\n",
       "      <td>0.018735</td>\n",
       "      <td>0.019183</td>\n",
       "      <td>0.019864</td>\n",
       "      <td>0.020798</td>\n",
       "      <td>0.021901</td>\n",
       "      <td>0.023103</td>\n",
       "      <td>0.024190</td>\n",
       "      <td>0.025284</td>\n",
       "      <td>...</td>\n",
       "      <td>0.051231</td>\n",
       "      <td>0.049668</td>\n",
       "      <td>0.051017</td>\n",
       "      <td>0.044889</td>\n",
       "      <td>0.045879</td>\n",
       "      <td>0.043703</td>\n",
       "      <td>0.040889</td>\n",
       "      <td>0.039307</td>\n",
       "      <td>0.039314</td>\n",
       "      <td>0.0</td>\n",
       "    </tr>\n",
       "  </tbody>\n",
       "</table>\n",
       "<p>5 rows × 286 columns</p>\n",
       "</div>"
      ],
      "text/plain": [
       "          0         1         2         3         4         5         6  \\\n",
       "0  0.010281  0.010403  0.010525  0.010649  0.010932  0.011388  0.011972   \n",
       "1  0.011180  0.011382  0.011583  0.011786  0.012148  0.012683  0.013340   \n",
       "2  0.012435  0.012749  0.013063  0.013379  0.013852  0.014502  0.015266   \n",
       "3  0.017038  0.017625  0.018211  0.018801  0.019578  0.020565  0.021674   \n",
       "4  0.017849  0.018292  0.018735  0.019183  0.019864  0.020798  0.021901   \n",
       "\n",
       "          7         8         9  ...       276       277       278       279  \\\n",
       "0  0.012628  0.013215  0.013814  ...  0.021460  0.021286  0.021945  0.021045   \n",
       "1  0.014069  0.014724  0.015389  ...  0.026586  0.025946  0.026113  0.025691   \n",
       "2  0.016096  0.016839  0.017584  ...  0.032494  0.029946  0.029996  0.027479   \n",
       "3  0.022856  0.023913  0.024962  ...  0.051407  0.048852  0.048247  0.044599   \n",
       "4  0.023103  0.024190  0.025284  ...  0.051231  0.049668  0.051017  0.044889   \n",
       "\n",
       "        280       281       282       283       284   gt  \n",
       "0  0.020107  0.018974  0.019383  0.018503  0.017791  0.0  \n",
       "1  0.024153  0.024572  0.023118  0.022323  0.021669  0.0  \n",
       "2  0.028405  0.026994  0.026503  0.025581  0.024835  0.0  \n",
       "3  0.044867  0.044043  0.041095  0.039858  0.039054  0.0  \n",
       "4  0.045879  0.043703  0.040889  0.039307  0.039314  0.0  \n",
       "\n",
       "[5 rows x 286 columns]"
      ]
     },
     "execution_count": 131,
     "metadata": {},
     "output_type": "execute_result"
    }
   ],
   "source": [
    "X = pd.DataFrame(X)\n",
    "X['gt'] = y\n",
    "X.head()"
   ]
  },
  {
   "cell_type": "code",
   "execution_count": 132,
   "metadata": {},
   "outputs": [],
   "source": [
    "X = X.loc[:, ~(X == -0.01).any()]"
   ]
  },
  {
   "cell_type": "code",
   "execution_count": 133,
   "metadata": {},
   "outputs": [],
   "source": [
    "min32 = X.query('gt == 32')\n",
    "min45 = X.query('gt == 45')\n",
    "min20 = X.query('gt == 20')"
   ]
  },
  {
   "cell_type": "code",
   "execution_count": 134,
   "metadata": {},
   "outputs": [
    {
     "name": "stdout",
     "output_type": "stream",
     "text": [
      "<class 'pandas.core.frame.DataFrame'>\n",
      "Int64Index: 10524 entries, 11577 to 1589690\n",
      "Columns: 245 entries, 0 to gt\n",
      "dtypes: float32(245)\n",
      "memory usage: 9.9 MB\n"
     ]
    }
   ],
   "source": [
    "merged = pd.concat([min32, min45, min20])\n",
    "merged.info()"
   ]
  },
  {
   "cell_type": "code",
   "execution_count": 135,
   "metadata": {},
   "outputs": [],
   "source": [
    "X = merged\n",
    "y = merged.pop('gt')\n",
    "del hsiData\n",
    "del groundTruth"
   ]
  },
  {
   "cell_type": "code",
   "execution_count": 136,
   "metadata": {},
   "outputs": [
    {
     "name": "stdout",
     "output_type": "stream",
     "text": [
      "Counter({32.0: 4056, 45.0: 3960, 20.0: 2508})\n"
     ]
    }
   ],
   "source": [
    "from collections import Counter\n",
    "counter = Counter(y)\n",
    "print(counter)"
   ]
  },
  {
   "cell_type": "code",
   "execution_count": 137,
   "metadata": {},
   "outputs": [
    {
     "data": {
      "text/plain": [
       "<BarContainer object of 3 artists>"
      ]
     },
     "execution_count": 137,
     "metadata": {},
     "output_type": "execute_result"
    },
    {
     "data": {
      "image/png": "[encoded data removed]",
      "text/plain": [
       "<Figure size 640x480 with 1 Axes>"
      ]
     },
     "metadata": {},
     "output_type": "display_data"
    }
   ],
   "source": [
    "plt.bar(counter.keys(), counter.values())"
   ]
  },
  {
   "cell_type": "code",
   "execution_count": 138,
   "metadata": {},
   "outputs": [],
   "source": [
    "from sklearn.preprocessing import StandardScaler\n",
    "scaler = StandardScaler()\n",
    "X = scaler.fit_transform(X)"
   ]
  },
  {
   "cell_type": "code",
   "execution_count": 139,
   "metadata": {},
   "outputs": [
    {
     "data": {
      "image/png": "[encoded data removed]",
      "text/plain": [
       "<Figure size 1200x600 with 1 Axes>"
      ]
     },
     "metadata": {},
     "output_type": "display_data"
    }
   ],
   "source": [
    "from sklearn.decomposition import PCA\n",
    "\n",
    "pca = PCA(n_components = 100)\n",
    "\n",
    "principalComponents = pca.fit_transform(X)\n",
    "\n",
    "X = principalComponents\n",
    "\n",
    "ev=pca.explained_variance_ratio_\n",
    "\n",
    "plt.figure(figsize=(12, 6))\n",
    "plt.plot(np.cumsum(ev))\n",
    "plt.xlabel('Number of components')\n",
    "plt.ylabel('Cumulative explained variance')\n",
    "\n",
    "\n",
    "plt.show()"
   ]
  },
  {
   "cell_type": "code",
   "execution_count": 157,
   "metadata": {},
   "outputs": [
    {
     "name": "stdout",
     "output_type": "stream",
     "text": [
      "(5262, 100)\n"
     ]
    }
   ],
   "source": [
    "from sklearn.model_selection import train_test_split\n",
    "\n",
    "X_train, X_test, y_train, y_test = train_test_split(X, y, test_size=0.5, random_state=42, stratify=y)\n",
    "print(X_train.shape)"
   ]
  },
  {
   "cell_type": "code",
   "execution_count": 117,
   "metadata": {},
   "outputs": [
    {
     "name": "stdout",
     "output_type": "stream",
     "text": [
      "Counter({32.0: 2028, 45.0: 1980, 20.0: 1254})\n"
     ]
    }
   ],
   "source": [
    "from collections import Counter\n",
    "counter = Counter(y_train)\n",
    "print(counter)"
   ]
  },
  {
   "cell_type": "code",
   "execution_count": 118,
   "metadata": {},
   "outputs": [],
   "source": [
    "def class_weight(labels_dict,mu=0.15):\n",
    "\ttotal = np.sum(np.fromiter(labels_dict.values(), dtype=int))\n",
    "\tkeys = labels_dict.keys()\n",
    "\tweight = dict()\n",
    "\tfor i in keys:\n",
    "\t\tscore = np.log(mu*total/int(labels_dict[i]))\n",
    "\t\tweight[i] = score if score > 1 else 1\n",
    "\treturn weight"
   ]
  },
  {
   "cell_type": "code",
   "execution_count": 119,
   "metadata": {},
   "outputs": [
    {
     "data": {
      "text/plain": [
       "{20.0: 1, 32.0: 1, 45.0: 1}"
      ]
     },
     "execution_count": 119,
     "metadata": {},
     "output_type": "execute_result"
    }
   ],
   "source": [
    "weights = class_weight(Counter(y_train))\n",
    "weights"
   ]
  },
  {
   "cell_type": "code",
   "execution_count": 159,
   "metadata": {},
   "outputs": [
    {
     "data": {
      "text/html": [
       "<style>#sk-container-id-12 {color: black;}#sk-container-id-12 pre{padding: 0;}#sk-container-id-12 div.sk-toggleable {background-color: white;}#sk-container-id-12 label.sk-toggleable__label {cursor: pointer;display: block;width: 100%;margin-bottom: 0;padding: 0.3em;box-sizing: border-box;text-align: center;}#sk-container-id-12 label.sk-toggleable__label-arrow:before {content: \"▸\";float: left;margin-right: 0.25em;color: #696969;}#sk-container-id-12 label.sk-toggleable__label-arrow:hover:before {color: black;}#sk-container-id-12 div.sk-estimator:hover label.sk-toggleable__label-arrow:before {color: black;}#sk-container-id-12 div.sk-toggleable__content {max-height: 0;max-width: 0;overflow: hidden;text-align: left;background-color: #f0f8ff;}#sk-container-id-12 div.sk-toggleable__content pre {margin: 0.2em;color: black;border-radius: 0.25em;background-color: #f0f8ff;}#sk-container-id-12 input.sk-toggleable__control:checked~div.sk-toggleable__content {max-height: 200px;max-width: 100%;overflow: auto;}#sk-container-id-12 input.sk-toggleable__control:checked~label.sk-toggleable__label-arrow:before {content: \"▾\";}#sk-container-id-12 div.sk-estimator input.sk-toggleable__control:checked~label.sk-toggleable__label {background-color: #d4ebff;}#sk-container-id-12 div.sk-label input.sk-toggleable__control:checked~label.sk-toggleable__label {background-color: #d4ebff;}#sk-container-id-12 input.sk-hidden--visually {border: 0;clip: rect(1px 1px 1px 1px);clip: rect(1px, 1px, 1px, 1px);height: 1px;margin: -1px;overflow: hidden;padding: 0;position: absolute;width: 1px;}#sk-container-id-12 div.sk-estimator {font-family: monospace;background-color: #f0f8ff;border: 1px dotted black;border-radius: 0.25em;box-sizing: border-box;margin-bottom: 0.5em;}#sk-container-id-12 div.sk-estimator:hover {background-color: #d4ebff;}#sk-container-id-12 div.sk-parallel-item::after {content: \"\";width: 100%;border-bottom: 1px solid gray;flex-grow: 1;}#sk-container-id-12 div.sk-label:hover label.sk-toggleable__label {background-color: #d4ebff;}#sk-container-id-12 div.sk-serial::before {content: \"\";position: absolute;border-left: 1px solid gray;box-sizing: border-box;top: 0;bottom: 0;left: 50%;z-index: 0;}#sk-container-id-12 div.sk-serial {display: flex;flex-direction: column;align-items: center;background-color: white;padding-right: 0.2em;padding-left: 0.2em;position: relative;}#sk-container-id-12 div.sk-item {position: relative;z-index: 1;}#sk-container-id-12 div.sk-parallel {display: flex;align-items: stretch;justify-content: center;background-color: white;position: relative;}#sk-container-id-12 div.sk-item::before, #sk-container-id-12 div.sk-parallel-item::before {content: \"\";position: absolute;border-left: 1px solid gray;box-sizing: border-box;top: 0;bottom: 0;left: 50%;z-index: -1;}#sk-container-id-12 div.sk-parallel-item {display: flex;flex-direction: column;z-index: 1;position: relative;background-color: white;}#sk-container-id-12 div.sk-parallel-item:first-child::after {align-self: flex-end;width: 50%;}#sk-container-id-12 div.sk-parallel-item:last-child::after {align-self: flex-start;width: 50%;}#sk-container-id-12 div.sk-parallel-item:only-child::after {width: 0;}#sk-container-id-12 div.sk-dashed-wrapped {border: 1px dashed gray;margin: 0 0.4em 0.5em 0.4em;box-sizing: border-box;padding-bottom: 0.4em;background-color: white;}#sk-container-id-12 div.sk-label label {font-family: monospace;font-weight: bold;display: inline-block;line-height: 1.2em;}#sk-container-id-12 div.sk-label-container {text-align: center;}#sk-container-id-12 div.sk-container {/* jupyter's `normalize.less` sets `[hidden] { display: none; }` but bootstrap.min.css set `[hidden] { display: none !important; }` so we also need the `!important` here to be able to override the default hidden behavior on the sphinx rendered scikit-learn.org. See: https://github.com/scikit-learn/scikit-learn/issues/21755 */display: inline-block !important;position: relative;}#sk-container-id-12 div.sk-text-repr-fallback {display: none;}</style><div id=\"sk-container-id-12\" class=\"sk-top-container\"><div class=\"sk-text-repr-fallback\"><pre>SVC(C=10, class_weight=&#x27;balanced&#x27;, gamma=1, kernel=&#x27;linear&#x27;)</pre><b>In a Jupyter environment, please rerun this cell to show the HTML representation or trust the notebook. <br />On GitHub, the HTML representation is unable to render, please try loading this page with nbviewer.org.</b></div><div class=\"sk-container\" hidden><div class=\"sk-item\"><div class=\"sk-estimator sk-toggleable\"><input class=\"sk-toggleable__control sk-hidden--visually\" id=\"sk-estimator-id-12\" type=\"checkbox\" checked><label for=\"sk-estimator-id-12\" class=\"sk-toggleable__label sk-toggleable__label-arrow\">SVC</label><div class=\"sk-toggleable__content\"><pre>SVC(C=10, class_weight=&#x27;balanced&#x27;, gamma=1, kernel=&#x27;linear&#x27;)</pre></div></div></div></div></div>"
      ],
      "text/plain": [
       "SVC(C=10, class_weight='balanced', gamma=1, kernel='linear')"
      ]
     },
     "execution_count": 159,
     "metadata": {},
     "output_type": "execute_result"
    }
   ],
   "source": [
    "from sklearn.svm import SVC\n",
    "model = SVC(C=10, gamma=1, kernel='linear', class_weight='balanced')\n",
    "model.fit(X_train, y_train)"
   ]
  },
  {
   "cell_type": "code",
   "execution_count": 160,
   "metadata": {},
   "outputs": [
    {
     "name": "stdout",
     "output_type": "stream",
     "text": [
      "Test Result:n================================================\n",
      "Accuracy Score: 95.84%\n",
      "_______________________________________________\n",
      "CLASSIFICATION REPORT:n                  20.0         32.0         45.0  accuracy    macro avg  \\\n",
      "precision     0.932412     0.976813     0.956544  0.958381     0.955256   \n",
      "recall        0.968102     0.976331     0.933838  0.958381     0.959424   \n",
      "f1-score      0.949922     0.976572     0.945055  0.958381     0.957183   \n",
      "support    1254.000000  2028.000000  1980.000000  0.958381  5262.000000   \n",
      "\n",
      "           weighted avg  \n",
      "precision      0.958605  \n",
      "recall         0.958381  \n",
      "f1-score       0.958362  \n",
      "support     5262.000000  \n",
      "_______________________________________________\n",
      "Confusion Matrix: n [[1214    2   38]\n",
      " [   2 1980   46]\n",
      " [  86   45 1849]]n\n"
     ]
    }
   ],
   "source": [
    "from sklearn.metrics import accuracy_score, confusion_matrix, classification_report\n",
    "\n",
    "pred = model.predict(X_test)\n",
    "clf_report = pd.DataFrame(classification_report(y_test, pred, output_dict=True))\n",
    "print(\"Test Result:n================================================\")        \n",
    "print(f\"Accuracy Score: {accuracy_score(y_test, pred) * 100:.2f}%\")\n",
    "print(\"_______________________________________________\")\n",
    "print(f\"CLASSIFICATION REPORT:n{clf_report}\")\n",
    "print(\"_______________________________________________\")\n",
    "print(f\"Confusion Matrix: n {confusion_matrix(y_test, pred)}n\")"
   ]
  },
  {
   "cell_type": "code",
   "execution_count": 161,
   "metadata": {},
   "outputs": [
    {
     "name": "stdout",
     "output_type": "stream",
     "text": [
      "0\n",
      "96.12314709236031\n",
      "1\n",
      "95.32497149372861\n",
      "2\n",
      "95.55302166476625\n",
      "3\n",
      "95.83808437856328\n",
      "4\n",
      "95.83808437856328\n",
      "5\n",
      "95.34397567464842\n",
      "6\n",
      "95.91410110224248\n",
      "7\n",
      "95.74306347396427\n",
      "8\n",
      "95.9901178259217\n",
      "9\n",
      "95.9711136450019\n",
      "95.76396807297606\n"
     ]
    }
   ],
   "source": [
    "accuracy = 0\n",
    "\n",
    "for i in range(0, 10):\n",
    "    print(i)\n",
    "    X_train, X_test, y_train, y_test = train_test_split(X, y, test_size=0.5, random_state=i, stratify=y)\n",
    "    svm_clf = SVC(C=10, gamma=1, kernel='linear', class_weight='balanced')\n",
    "    svm_clf.fit(X_train, y_train)\n",
    "    pred = svm_clf.predict(X_test)\n",
    "    acc = accuracy_score(y_test, pred) * 100\n",
    "    print(acc)\n",
    "    accuracy += acc\n",
    "accuracy = accuracy / 10\n",
    "print(accuracy)"
   ]
  },
  {
   "cell_type": "code",
   "execution_count": 162,
   "metadata": {},
   "outputs": [
    {
     "data": {
      "image/png": "[encoded data removed]",
      "text/plain": [
       "<Figure size 640x480 with 1 Axes>"
      ]
     },
     "metadata": {},
     "output_type": "display_data"
    }
   ],
   "source": [
    "from sklearn.metrics import ConfusionMatrixDisplay\n",
    "cmp = ConfusionMatrixDisplay.from_predictions(y_test, pred, colorbar=False, cmap=\"summer\")"
   ]
  },
  {
   "cell_type": "code",
   "execution_count": 76,
   "metadata": {},
   "outputs": [
    {
     "data": {
      "text/plain": [
       "<Axes: >"
      ]
     },
     "execution_count": 76,
     "metadata": {},
     "output_type": "execute_result"
    },
    {
     "data": {
      "image/png": "[encoded data removed]",
      "text/plain": [
       "<Figure size 800x1400 with 2 Axes>"
      ]
     },
     "metadata": {},
     "output_type": "display_data"
    }
   ],
   "source": [
    "import seaborn as sns\n",
    "\n",
    "y_hat = svm_clf.predict(X_test)\n",
    "clf_report = classification_report(y_test,\n",
    "                                   y_hat,\n",
    "                                   output_dict=True)\n",
    "\n",
    "plt.figure(figsize=(8, 14))\n",
    "sns.heatmap(pd.DataFrame(clf_report).iloc[:-1, :].T, annot=True, cmap=\"YlGn\")"
   ]
  },
  {
   "cell_type": "code",
   "execution_count": 74,
   "metadata": {},
   "outputs": [
    {
     "data": {
      "text/html": [
       "<div>\n",
       "<style scoped>\n",
       "    .dataframe tbody tr th:only-of-type {\n",
       "        vertical-align: middle;\n",
       "    }\n",
       "\n",
       "    .dataframe tbody tr th {\n",
       "        vertical-align: top;\n",
       "    }\n",
       "\n",
       "    .dataframe thead th {\n",
       "        text-align: right;\n",
       "    }\n",
       "</style>\n",
       "<table border=\"1\" class=\"dataframe\">\n",
       "  <thead>\n",
       "    <tr style=\"text-align: right;\">\n",
       "      <th></th>\n",
       "      <th>20.0</th>\n",
       "      <th>32.0</th>\n",
       "      <th>45.0</th>\n",
       "      <th>accuracy</th>\n",
       "      <th>macro avg</th>\n",
       "      <th>weighted avg</th>\n",
       "    </tr>\n",
       "  </thead>\n",
       "  <tbody>\n",
       "    <tr>\n",
       "      <th>precision</th>\n",
       "      <td>0.929567</td>\n",
       "      <td>0.970703</td>\n",
       "      <td>0.952653</td>\n",
       "      <td>0.95401</td>\n",
       "      <td>0.950974</td>\n",
       "      <td>0.954108</td>\n",
       "    </tr>\n",
       "    <tr>\n",
       "      <th>recall</th>\n",
       "      <td>0.957735</td>\n",
       "      <td>0.980276</td>\n",
       "      <td>0.924747</td>\n",
       "      <td>0.95401</td>\n",
       "      <td>0.954253</td>\n",
       "      <td>0.954010</td>\n",
       "    </tr>\n",
       "    <tr>\n",
       "      <th>f1-score</th>\n",
       "      <td>0.943441</td>\n",
       "      <td>0.975466</td>\n",
       "      <td>0.938493</td>\n",
       "      <td>0.95401</td>\n",
       "      <td>0.952467</td>\n",
       "      <td>0.953922</td>\n",
       "    </tr>\n",
       "    <tr>\n",
       "      <th>support</th>\n",
       "      <td>1254.000000</td>\n",
       "      <td>2028.000000</td>\n",
       "      <td>1980.000000</td>\n",
       "      <td>0.95401</td>\n",
       "      <td>5262.000000</td>\n",
       "      <td>5262.000000</td>\n",
       "    </tr>\n",
       "  </tbody>\n",
       "</table>\n",
       "</div>"
      ],
      "text/plain": [
       "                  20.0         32.0         45.0  accuracy    macro avg  \\\n",
       "precision     0.929567     0.970703     0.952653   0.95401     0.950974   \n",
       "recall        0.957735     0.980276     0.924747   0.95401     0.954253   \n",
       "f1-score      0.943441     0.975466     0.938493   0.95401     0.952467   \n",
       "support    1254.000000  2028.000000  1980.000000   0.95401  5262.000000   \n",
       "\n",
       "           weighted avg  \n",
       "precision      0.954108  \n",
       "recall         0.954010  \n",
       "f1-score       0.953922  \n",
       "support     5262.000000  "
      ]
     },
     "execution_count": 74,
     "metadata": {},
     "output_type": "execute_result"
    }
   ],
   "source": [
    "pd.DataFrame(clf_report)"
   ]
  },
  {
   "cell_type": "code",
   "execution_count": 156,
   "metadata": {},
   "outputs": [
    {
     "name": "stdout",
     "output_type": "stream",
     "text": [
      "Fitting 2 folds for each of 126 candidates, totalling 252 fits\n",
      "Best params: {'C': 10, 'gamma': 1, 'kernel': 'linear'}\n",
      "Test Result:n================================================\n",
      "Accuracy Score: 94.31%\n",
      "_______________________________________________\n",
      "CLASSIFICATION REPORT:n                  20.0         32.0         45.0  accuracy    macro avg  \\\n",
      "precision     0.936065     0.959924     0.930017  0.943095     0.942002   \n",
      "recall        0.921134     0.970967     0.928451  0.943095     0.940184   \n",
      "f1-score      0.928540     0.965414     0.929233  0.943095     0.941062   \n",
      "support    2257.000000  3651.000000  3564.000000  0.943095  9472.000000   \n",
      "\n",
      "           weighted avg  \n",
      "precision      0.942986  \n",
      "recall         0.943095  \n",
      "f1-score       0.943014  \n",
      "support     9472.000000  \n",
      "_______________________________________________\n",
      "Confusion Matrix: n [[2079   22  156]\n",
      " [  13 3545   93]\n",
      " [ 129  126 3309]]n\n"
     ]
    }
   ],
   "source": [
    "from sklearn.model_selection import GridSearchCV\n",
    "\n",
    "param_grid = {'C': [0.01, 0.1, 0.5, 1, 10, 100], \n",
    "              'gamma': [1, 0.75, 0.5, 0.25, 0.1, 0.01, 0.001], \n",
    "              'kernel': ['rbf', 'poly', 'linear']} \n",
    "\n",
    "grid = GridSearchCV(SVC(), param_grid, refit=True, verbose=1, cv=2, n_jobs=- 1)\n",
    "\n",
    "grid.fit(X_train, y_train) \n",
    "\n",
    "best_params = grid.best_params_\n",
    "print(f\"Best params: {best_params}\")\n",
    "\n",
    "svm_clf = SVC(**best_params)\n",
    "svm_clf.fit(X_train, y_train)\n",
    "\n",
    "pred = svm_clf.predict(X_test)\n",
    "clf_report = pd.DataFrame(classification_report(y_test, pred, output_dict=True))\n",
    "print(\"Test Result:n================================================\")        \n",
    "print(f\"Accuracy Score: {accuracy_score(y_test, pred) * 100:.2f}%\")\n",
    "print(\"_______________________________________________\")\n",
    "print(f\"CLASSIFICATION REPORT:n{clf_report}\")\n",
    "print(\"_______________________________________________\")\n",
    "print(f\"Confusion Matrix: n {confusion_matrix(y_test, pred)}n\")"
   ]
  }
 ],
 "metadata": {
  "kernelspec": {
   "display_name": "emit",
   "language": "python",
   "name": "python3"
  },
  "language_info": {
   "codemirror_mode": {
    "name": "ipython",
    "version": 3
   },
   "file_extension": ".py",
   "mimetype": "text/x-python",
   "name": "python",
   "nbconvert_exporter": "python",
   "pygments_lexer": "ipython3",
   "version": "3.11.4"
  },
  "orig_nbformat": 4
 },
 "nbformat": 4,
 "nbformat_minor": 2
}
